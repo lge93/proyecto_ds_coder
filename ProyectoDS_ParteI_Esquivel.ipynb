{
 "cells": [
  {
   "cell_type": "markdown",
   "id": "fadfc436-eb5c-44cb-b1cb-a5753ee72a68",
   "metadata": {},
   "source": [
    "# Curso Data Science Parte I - Primera Entrega Trabajo Final"
   ]
  },
  {
   "cell_type": "markdown",
   "id": "c093b115-2649-42e7-9d60-04e1b9b5fd2e",
   "metadata": {},
   "source": [
    "### Fraud Detection - Transacciones Bancarias"
   ]
  },
  {
   "cell_type": "markdown",
   "id": "65b31965-167d-4a0f-b636-897904671e27",
   "metadata": {},
   "source": [
    "##### Este análisis se enfoca en un conjunto de datos detallado de transacciones bancarias, abarcando tanto las operaciones de débito como las de crédito realizadas por los clientes del mismo. La información incluye ciertos detalles que permiten una comprensión profunda de cada transacción financiera. Entre estos detalles se encuentran el monto, la fecha y hora en que se llevó a cabo, la ubicación geográfica desde donde se originó, el identificador único del dispositivo utilizado para realizar la operación, la identificación del comerciante que realizó el cobro y las características demográficas y laborales del titular de la cuenta. Adicionalmente, el dataset posee indicadores como el tipo de operación (crédito o débito) y el canal a través del cual se ejecutó (ya sea online, a través de un cajero automático o en una sucursal física).\n",
    "\n",
    "##### El objetivo de este análisis es la identificación de patrones de comportamiento de los clientes y la detección de posibles anomalías que puedan servir como señales de actividades fraudulentas. A través de una exploración de estas variablesy sus correlaciones, se busca poder detectar insights importantes que contribuyan a la mejora de las estrategias de detección y prevención del fraude bancario. La capacidad de distinguir a las transacciones legítimas de aquellas que podrían ser posible fraude es fundamental para proteger tanto al banco como a sus clientes."
   ]
  },
  {
   "cell_type": "markdown",
   "id": "f6def0a1-153a-446f-abf9-674f252d5c42",
   "metadata": {},
   "source": [
    "#### Las variables que integran este dataset son las siguientes:\n",
    "###### * TransactionID: ID único por transacción.\n",
    "###### * AccountID: ID único para cada cuenta, con múltiples transacciones por cuenta.\n",
    "###### * TransactionAmount: monto en dolares de cada transacción.\n",
    "###### * TransactionDate: fecha y hora de la transacción.\n",
    "###### * TransactionType: Tipo de transacción, puede ser 'Credit' (Crédito) o 'Debit' (Débito).\n",
    "###### * Location: Ubicación geográfica de la transacción, representada por nombres de ciudades de EE. UU.\n",
    "###### * DeviceID: ID para los dispositivos utilizados para realizar la transacción.\n",
    "###### * IP Address: Dirección IP asociada con la transacción.\n",
    "###### * MerchantID: ID único para los comercios, mostrando comerciantes preferidos y atípicos para cada cuenta.\n",
    "###### * AccountBalance: Saldo en la cuenta después de la transacción, con correlaciones lógicas basadas en el tipo y el monto de la transacción.\n",
    "###### * PreviousTransactionDate: Marca de tiempo de la última transacción para la cuenta, lo que ayuda a calcular la frecuencia de las transacciones.\n",
    "###### * Channel: Canal a través del cual se realizó la transacción (p. ej., Online, ATM, Branch).\n",
    "###### * CustomerAge: Edad del titular de la cuenta, con agrupaciones lógicas basadas en la ocupación.\n",
    "###### * CustomerOccupation: Ocupación del titular de la cuenta (p. ej., Doctor, Engineer, Student, Retired), lo que refleja patrones de ingresos.\n",
    "###### * TransactionDuration: Duración de la transacción en segundos, que varía según el tipo de transacción.\n",
    "###### * LoginAttempts: Número de intentos de inicio de sesión antes de la transacción, con valores más altos que indican posibles anomalías."
   ]
  },
  {
   "cell_type": "markdown",
   "id": "181987cf-acaa-4522-a359-59d18802b280",
   "metadata": {},
   "source": [
    "#### En base a esta información, buscaremos contestar las siguientes preguntas:\n",
    "###### * ¿Cómo pordríamos distinguir un comportamiento \"Normal\" de uno \"Anormal\"?\n",
    "###### * ¿Puede decirnos algo la cantidad de transacciónes por cuenta?\n",
    "###### * ¿Puede haber una cantidad muy grande de transacciones pequeña que puedan ser fraude?\n",
    "###### * ¿Existe alguna correlación entre edad, ocupación, montos, cantidad de transacciones o promedio de transacciones por día?\n",
    "###### * ¿Es la ubicación Geográfica un factor que nos indique una correlación con el resto de las variables?\n",
    "\n",
    "\n",
    "##### Para contestar estas preguntas, estructuraremos nuestro análisis en varias etapas clave. Inicialmente, procederemos a la importación de todas las librerias de Python que se consideren necesarias para llevar esta actividad adelante. A continuación, llevaremos a cabo un exhaustivo Análisis Exploratorio de Datos (EDA, por sus siglas en inglés), una fase clave que nos permitirá entender con mayor profundidad la estructura, las características y las particularidades de nuestro dataset. Finalmente, nos apoyaremos en la visualización de datos para representar la información de manera clara y concisa, facilitando así la identificación de patrones relevantes que puedan pasar desapercibidos en un análisis sólo numérico. Este enfoque nos permitirá maximizar las posibilidades de detectar indicios de fraude y contribuir a la seguridad de la institución.\n"
   ]
  },
  {
   "cell_type": "markdown",
   "id": "044ad9f0-a3eb-4fe0-8659-789bc74c6914",
   "metadata": {},
   "source": [
    "#### Importación de librerías de Python:"
   ]
  },
  {
   "cell_type": "code",
   "execution_count": 85,
   "id": "6eb4fa25-736a-453a-906c-cb92be864ef4",
   "metadata": {},
   "outputs": [],
   "source": [
    "import pandas as pd\n",
    "import numpy as np\n",
    "import matplotlib as mp\n",
    "import seaborn as sns"
   ]
  },
  {
   "cell_type": "markdown",
   "id": "30d7a789-6fe0-4e91-8d1b-eb88be6304db",
   "metadata": {},
   "source": [
    "#### Con la ayuda de Pandas y Github, ejecutamos un \"pd.read_csv\" tomando como referencia la ruta \"RAW\" del .csv correspondiente al dataset, alojado en el repositorio que previamente habíamos creado."
   ]
  },
  {
   "cell_type": "code",
   "execution_count": 88,
   "id": "cda676d4-55ba-45e8-ad5d-932de2bd6d51",
   "metadata": {},
   "outputs": [
    {
     "data": {
      "text/html": [
       "<div>\n",
       "<style scoped>\n",
       "    .dataframe tbody tr th:only-of-type {\n",
       "        vertical-align: middle;\n",
       "    }\n",
       "\n",
       "    .dataframe tbody tr th {\n",
       "        vertical-align: top;\n",
       "    }\n",
       "\n",
       "    .dataframe thead th {\n",
       "        text-align: right;\n",
       "    }\n",
       "</style>\n",
       "<table border=\"1\" class=\"dataframe\">\n",
       "  <thead>\n",
       "    <tr style=\"text-align: right;\">\n",
       "      <th></th>\n",
       "      <th>TransactionID</th>\n",
       "      <th>AccountID</th>\n",
       "      <th>TransactionAmount</th>\n",
       "      <th>TransactionDate</th>\n",
       "      <th>TransactionType</th>\n",
       "      <th>Location</th>\n",
       "      <th>DeviceID</th>\n",
       "      <th>IP Address</th>\n",
       "      <th>MerchantID</th>\n",
       "      <th>Channel</th>\n",
       "      <th>CustomerAge</th>\n",
       "      <th>CustomerOccupation</th>\n",
       "      <th>TransactionDuration</th>\n",
       "      <th>LoginAttempts</th>\n",
       "      <th>AccountBalance</th>\n",
       "      <th>PreviousTransactionDate</th>\n",
       "    </tr>\n",
       "  </thead>\n",
       "  <tbody>\n",
       "    <tr>\n",
       "      <th>0</th>\n",
       "      <td>TX000001</td>\n",
       "      <td>AC00128</td>\n",
       "      <td>14.09</td>\n",
       "      <td>2023-04-11 16:29:14</td>\n",
       "      <td>Debit</td>\n",
       "      <td>San Diego</td>\n",
       "      <td>D000380</td>\n",
       "      <td>162.198.218.92</td>\n",
       "      <td>M015</td>\n",
       "      <td>ATM</td>\n",
       "      <td>70</td>\n",
       "      <td>Doctor</td>\n",
       "      <td>81</td>\n",
       "      <td>1</td>\n",
       "      <td>5112.21</td>\n",
       "      <td>2024-11-04 08:08:08</td>\n",
       "    </tr>\n",
       "    <tr>\n",
       "      <th>1</th>\n",
       "      <td>TX000002</td>\n",
       "      <td>AC00455</td>\n",
       "      <td>376.24</td>\n",
       "      <td>2023-06-27 16:44:19</td>\n",
       "      <td>Debit</td>\n",
       "      <td>Houston</td>\n",
       "      <td>D000051</td>\n",
       "      <td>13.149.61.4</td>\n",
       "      <td>M052</td>\n",
       "      <td>ATM</td>\n",
       "      <td>68</td>\n",
       "      <td>Doctor</td>\n",
       "      <td>141</td>\n",
       "      <td>1</td>\n",
       "      <td>13758.91</td>\n",
       "      <td>2024-11-04 08:09:35</td>\n",
       "    </tr>\n",
       "    <tr>\n",
       "      <th>2</th>\n",
       "      <td>TX000003</td>\n",
       "      <td>AC00019</td>\n",
       "      <td>126.29</td>\n",
       "      <td>2023-07-10 18:16:08</td>\n",
       "      <td>Debit</td>\n",
       "      <td>Mesa</td>\n",
       "      <td>D000235</td>\n",
       "      <td>215.97.143.157</td>\n",
       "      <td>M009</td>\n",
       "      <td>Online</td>\n",
       "      <td>19</td>\n",
       "      <td>Student</td>\n",
       "      <td>56</td>\n",
       "      <td>1</td>\n",
       "      <td>1122.35</td>\n",
       "      <td>2024-11-04 08:07:04</td>\n",
       "    </tr>\n",
       "    <tr>\n",
       "      <th>3</th>\n",
       "      <td>TX000004</td>\n",
       "      <td>AC00070</td>\n",
       "      <td>184.50</td>\n",
       "      <td>2023-05-05 16:32:11</td>\n",
       "      <td>Debit</td>\n",
       "      <td>Raleigh</td>\n",
       "      <td>D000187</td>\n",
       "      <td>200.13.225.150</td>\n",
       "      <td>M002</td>\n",
       "      <td>Online</td>\n",
       "      <td>26</td>\n",
       "      <td>Student</td>\n",
       "      <td>25</td>\n",
       "      <td>1</td>\n",
       "      <td>8569.06</td>\n",
       "      <td>2024-11-04 08:09:06</td>\n",
       "    </tr>\n",
       "    <tr>\n",
       "      <th>4</th>\n",
       "      <td>TX000005</td>\n",
       "      <td>AC00411</td>\n",
       "      <td>13.45</td>\n",
       "      <td>2023-10-16 17:51:24</td>\n",
       "      <td>Credit</td>\n",
       "      <td>Atlanta</td>\n",
       "      <td>D000308</td>\n",
       "      <td>65.164.3.100</td>\n",
       "      <td>M091</td>\n",
       "      <td>Online</td>\n",
       "      <td>26</td>\n",
       "      <td>Student</td>\n",
       "      <td>198</td>\n",
       "      <td>1</td>\n",
       "      <td>7429.40</td>\n",
       "      <td>2024-11-04 08:06:39</td>\n",
       "    </tr>\n",
       "  </tbody>\n",
       "</table>\n",
       "</div>"
      ],
      "text/plain": [
       "  TransactionID AccountID  TransactionAmount      TransactionDate  \\\n",
       "0      TX000001   AC00128              14.09  2023-04-11 16:29:14   \n",
       "1      TX000002   AC00455             376.24  2023-06-27 16:44:19   \n",
       "2      TX000003   AC00019             126.29  2023-07-10 18:16:08   \n",
       "3      TX000004   AC00070             184.50  2023-05-05 16:32:11   \n",
       "4      TX000005   AC00411              13.45  2023-10-16 17:51:24   \n",
       "\n",
       "  TransactionType   Location DeviceID      IP Address MerchantID Channel  \\\n",
       "0           Debit  San Diego  D000380  162.198.218.92       M015     ATM   \n",
       "1           Debit    Houston  D000051     13.149.61.4       M052     ATM   \n",
       "2           Debit       Mesa  D000235  215.97.143.157       M009  Online   \n",
       "3           Debit    Raleigh  D000187  200.13.225.150       M002  Online   \n",
       "4          Credit    Atlanta  D000308    65.164.3.100       M091  Online   \n",
       "\n",
       "   CustomerAge CustomerOccupation  TransactionDuration  LoginAttempts  \\\n",
       "0           70             Doctor                   81              1   \n",
       "1           68             Doctor                  141              1   \n",
       "2           19            Student                   56              1   \n",
       "3           26            Student                   25              1   \n",
       "4           26            Student                  198              1   \n",
       "\n",
       "   AccountBalance PreviousTransactionDate  \n",
       "0         5112.21     2024-11-04 08:08:08  \n",
       "1        13758.91     2024-11-04 08:09:35  \n",
       "2         1122.35     2024-11-04 08:07:04  \n",
       "3         8569.06     2024-11-04 08:09:06  \n",
       "4         7429.40     2024-11-04 08:06:39  "
      ]
     },
     "execution_count": 88,
     "metadata": {},
     "output_type": "execute_result"
    }
   ],
   "source": [
    "url_del_dataset = 'https://raw.githubusercontent.com/lge93/proyecto_ds_coder/refs/heads/main/bank_transactions_data.csv'\n",
    "\n",
    "df = pd.read_csv(url_del_dataset)\n",
    "df.head()"
   ]
  },
  {
   "cell_type": "markdown",
   "id": "4d2cfa4e-d00e-4c9d-b611-fccaf16299ec",
   "metadata": {},
   "source": [
    "##### Revisamos con \".info()\" la cantidad de columnas y registros que tiene el dataset y vemos que contiene 16 columnas y 2512 registros. Además podemos ver que no existen valores nulos en este conjunto de datos."
   ]
  },
  {
   "cell_type": "code",
   "execution_count": 90,
   "id": "706b03a6-b2dc-4800-a9a1-4263f31b8882",
   "metadata": {},
   "outputs": [
    {
     "name": "stdout",
     "output_type": "stream",
     "text": [
      "<class 'pandas.core.frame.DataFrame'>\n",
      "RangeIndex: 2512 entries, 0 to 2511\n",
      "Data columns (total 16 columns):\n",
      " #   Column                   Non-Null Count  Dtype  \n",
      "---  ------                   --------------  -----  \n",
      " 0   TransactionID            2512 non-null   object \n",
      " 1   AccountID                2512 non-null   object \n",
      " 2   TransactionAmount        2512 non-null   float64\n",
      " 3   TransactionDate          2512 non-null   object \n",
      " 4   TransactionType          2512 non-null   object \n",
      " 5   Location                 2512 non-null   object \n",
      " 6   DeviceID                 2512 non-null   object \n",
      " 7   IP Address               2512 non-null   object \n",
      " 8   MerchantID               2512 non-null   object \n",
      " 9   Channel                  2512 non-null   object \n",
      " 10  CustomerAge              2512 non-null   int64  \n",
      " 11  CustomerOccupation       2512 non-null   object \n",
      " 12  TransactionDuration      2512 non-null   int64  \n",
      " 13  LoginAttempts            2512 non-null   int64  \n",
      " 14  AccountBalance           2512 non-null   float64\n",
      " 15  PreviousTransactionDate  2512 non-null   object \n",
      "dtypes: float64(2), int64(3), object(11)\n",
      "memory usage: 314.1+ KB\n"
     ]
    }
   ],
   "source": [
    "df.info()"
   ]
  },
  {
   "cell_type": "markdown",
   "id": "12ada3d7-1f9e-42b9-88c4-e2d0be39cf4c",
   "metadata": {},
   "source": [
    "##### Con la función \".describe()\" veremos un resumen de los estadísticos principales sobres las variables numéricas del set de datos."
   ]
  },
  {
   "cell_type": "code",
   "execution_count": 93,
   "id": "ff118b87-2357-4a56-a280-e99f743dcbed",
   "metadata": {},
   "outputs": [
    {
     "data": {
      "text/html": [
       "<div>\n",
       "<style scoped>\n",
       "    .dataframe tbody tr th:only-of-type {\n",
       "        vertical-align: middle;\n",
       "    }\n",
       "\n",
       "    .dataframe tbody tr th {\n",
       "        vertical-align: top;\n",
       "    }\n",
       "\n",
       "    .dataframe thead th {\n",
       "        text-align: right;\n",
       "    }\n",
       "</style>\n",
       "<table border=\"1\" class=\"dataframe\">\n",
       "  <thead>\n",
       "    <tr style=\"text-align: right;\">\n",
       "      <th></th>\n",
       "      <th>TransactionAmount</th>\n",
       "      <th>CustomerAge</th>\n",
       "      <th>TransactionDuration</th>\n",
       "      <th>LoginAttempts</th>\n",
       "      <th>AccountBalance</th>\n",
       "    </tr>\n",
       "  </thead>\n",
       "  <tbody>\n",
       "    <tr>\n",
       "      <th>count</th>\n",
       "      <td>2512.000000</td>\n",
       "      <td>2512.000000</td>\n",
       "      <td>2512.000000</td>\n",
       "      <td>2512.000000</td>\n",
       "      <td>2512.000000</td>\n",
       "    </tr>\n",
       "    <tr>\n",
       "      <th>mean</th>\n",
       "      <td>297.593778</td>\n",
       "      <td>44.673965</td>\n",
       "      <td>119.643312</td>\n",
       "      <td>1.124602</td>\n",
       "      <td>5114.302966</td>\n",
       "    </tr>\n",
       "    <tr>\n",
       "      <th>std</th>\n",
       "      <td>291.946243</td>\n",
       "      <td>17.792198</td>\n",
       "      <td>69.963757</td>\n",
       "      <td>0.602662</td>\n",
       "      <td>3900.942499</td>\n",
       "    </tr>\n",
       "    <tr>\n",
       "      <th>min</th>\n",
       "      <td>0.260000</td>\n",
       "      <td>18.000000</td>\n",
       "      <td>10.000000</td>\n",
       "      <td>1.000000</td>\n",
       "      <td>101.250000</td>\n",
       "    </tr>\n",
       "    <tr>\n",
       "      <th>25%</th>\n",
       "      <td>81.885000</td>\n",
       "      <td>27.000000</td>\n",
       "      <td>63.000000</td>\n",
       "      <td>1.000000</td>\n",
       "      <td>1504.370000</td>\n",
       "    </tr>\n",
       "    <tr>\n",
       "      <th>50%</th>\n",
       "      <td>211.140000</td>\n",
       "      <td>45.000000</td>\n",
       "      <td>112.500000</td>\n",
       "      <td>1.000000</td>\n",
       "      <td>4735.510000</td>\n",
       "    </tr>\n",
       "    <tr>\n",
       "      <th>75%</th>\n",
       "      <td>414.527500</td>\n",
       "      <td>59.000000</td>\n",
       "      <td>161.000000</td>\n",
       "      <td>1.000000</td>\n",
       "      <td>7678.820000</td>\n",
       "    </tr>\n",
       "    <tr>\n",
       "      <th>max</th>\n",
       "      <td>1919.110000</td>\n",
       "      <td>80.000000</td>\n",
       "      <td>300.000000</td>\n",
       "      <td>5.000000</td>\n",
       "      <td>14977.990000</td>\n",
       "    </tr>\n",
       "  </tbody>\n",
       "</table>\n",
       "</div>"
      ],
      "text/plain": [
       "       TransactionAmount  CustomerAge  TransactionDuration  LoginAttempts  \\\n",
       "count        2512.000000  2512.000000          2512.000000    2512.000000   \n",
       "mean          297.593778    44.673965           119.643312       1.124602   \n",
       "std           291.946243    17.792198            69.963757       0.602662   \n",
       "min             0.260000    18.000000            10.000000       1.000000   \n",
       "25%            81.885000    27.000000            63.000000       1.000000   \n",
       "50%           211.140000    45.000000           112.500000       1.000000   \n",
       "75%           414.527500    59.000000           161.000000       1.000000   \n",
       "max          1919.110000    80.000000           300.000000       5.000000   \n",
       "\n",
       "       AccountBalance  \n",
       "count     2512.000000  \n",
       "mean      5114.302966  \n",
       "std       3900.942499  \n",
       "min        101.250000  \n",
       "25%       1504.370000  \n",
       "50%       4735.510000  \n",
       "75%       7678.820000  \n",
       "max      14977.990000  "
      ]
     },
     "execution_count": 93,
     "metadata": {},
     "output_type": "execute_result"
    }
   ],
   "source": [
    "df.describe()"
   ]
  },
  {
   "cell_type": "markdown",
   "id": "c2ccb24c-1aea-445a-bceb-245153c721e5",
   "metadata": {},
   "source": [
    "##### Estos indicadores estadísticos ya nos están dando muchos datos, por ejemplo, vemos que la desviación estándar del TransactionAmount es casi idéntico al promedio, por lo que podemos decir que hay una gran dispersión, o sea valores alejados de la media. Además también podemos ver que los valores máximo y mínimo están muy alejados del promedio lo que también nos indica que hay outliers o valores atípicos.\n",
    "\n",
    "##### Siguiendo con la edad de los clientes vemos que el promedio está en los 45 años, la edad mínima está en 18 y el máximo en 80, lo cual nos indica que tenemos una buena variedad rangos etarios, esto nos servirá para analizar el comportamiento transaccional según la edad y poder hacer comparaciones entre los mismos. \n",
    "\n",
    "##### En cuanto a la TransactionDuration vemos que hay mucha diferencia entre el quartil 75% que es de 161 y el máximo valor que es de 300 minutos. Duraciones más largas podrían indicar actividad fraudulenta.\n",
    "\n",
    "##### Mismo caso con LoginAttempts (intentos de login), vemos que hasta el 75% de la muestra la cantidad de intentos es 1, pero vemos que el máximo es 5, también podría estar indicando algún indicio de actividad sospechosa.\n",
    "\n",
    "##### En cuanto al AccountBalance (saldo de la cuenta) podemos decir que hay cuentas que tienen saldos muy pequeños (min= 100USD vs max= 15.000USD) esto podría servirnos para analizar el comportamiento entre cuentas que tienen bajos saldos vs las que tienen altos saldos, cantidad de transacciones, ubicación geográfica, rango etario, ocupación, etc."
   ]
  },
  {
   "cell_type": "markdown",
   "id": "86d877a0-0533-4769-b46d-813eb201d478",
   "metadata": {},
   "source": [
    "### Histográma distribución de la cantidad de clientes por Edad"
   ]
  },
  {
   "cell_type": "code",
   "execution_count": 124,
   "id": "c268fc89-7561-4999-abdb-3e7bff89b66f",
   "metadata": {},
   "outputs": [
    {
     "data": {
      "image/png": "[encoded data removed]",
      "text/plain": [
       "<Figure size 1200x400 with 1 Axes>"
      ]
     },
     "metadata": {},
     "output_type": "display_data"
    }
   ],
   "source": [
    "fig, ax = plt.subplots(figsize=(12, 4))\n",
    "\n",
    "sns.histplot(df['CustomerAge'], bins=20, kde=True)\n",
    "ax.set_title('Distribucion Edad del Cliente')\n",
    "ax.set_xlabel('Edad del Cliente')\n",
    "ax.set_ylabel('Frequencia')\n",
    "ax.set_axisbelow(True)\n",
    "ax.grid(axis='y', color='gray', linestyle='--', linewidth=0.7)"
   ]
  },
  {
   "cell_type": "code",
   "execution_count": null,
   "id": "d3d13a83-2cb6-4c03-815b-4f2ddf409921",
   "metadata": {},
   "outputs": [],
   "source": []
  }
 ],
 "metadata": {
  "kernelspec": {
   "display_name": "Python [conda env:base] *",
   "language": "python",
   "name": "conda-base-py"
  },
  "language_info": {
   "codemirror_mode": {
    "name": "ipython",
    "version": 3
   },
   "file_extension": ".py",
   "mimetype": "text/x-python",
   "name": "python",
   "nbconvert_exporter": "python",
   "pygments_lexer": "ipython3",
   "version": "3.12.7"
  }
 },
 "nbformat": 4,
 "nbformat_minor": 5
}
